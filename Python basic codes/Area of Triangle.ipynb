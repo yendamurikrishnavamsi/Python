{
 "cells": [
  {
   "cell_type": "markdown",
   "id": "eb0fcefa",
   "metadata": {},
   "source": [
    "# Area of Triangle with sides"
   ]
  },
  {
   "cell_type": "code",
   "execution_count": 43,
   "id": "9d5ed06c",
   "metadata": {},
   "outputs": [
    {
     "name": "stdout",
     "output_type": "stream",
     "text": [
      "enter length of side 1 : 6.5\n",
      "enter length of side 2 : 3\n",
      "enter length of side 3 : 7.89\n",
      "The area of triangle with sides 6.5 , 3.0 and 7.89 is 9.3540\n"
     ]
    }
   ],
   "source": [
    "l = []\n",
    "for i in range(3):\n",
    "    i=float(input(\"enter length of side \"+str(i+1)+\" : \"))\n",
    "    l.append(i)\n",
    "s=sum(l)/2\n",
    "a=(s*(s-l[0])*(s-l[1])*(s-l[2]))**0.5\n",
    "print(\"The area of triangle with sides\",l[0],\",\",l[1],\"and\",l[2],\"is %.4f\" %a)"
   ]
  },
  {
   "cell_type": "markdown",
   "id": "78d322d6",
   "metadata": {},
   "source": [
    "# Area of Triangle with Base and Height"
   ]
  },
  {
   "cell_type": "code",
   "execution_count": 45,
   "id": "52bfb601",
   "metadata": {},
   "outputs": [
    {
     "name": "stdout",
     "output_type": "stream",
     "text": [
      "Enter length of Triangle Base : 4.6\n",
      "Enter length of Triangle Height : 5\n",
      "The area of triangle with base 4.6 and height 5.0 is 11.5000\n"
     ]
    }
   ],
   "source": [
    "b=float(input(\"Enter length of Triangle Base : \"))\n",
    "h=float(input(\"Enter length of Triangle Height : \"))\n",
    "a=0.5*b*h\n",
    "print(\"The area of triangle with base\",b,'and height',h,\"is %.4f\" %a)"
   ]
  }
 ],
 "metadata": {
  "kernelspec": {
   "display_name": "Python 3",
   "language": "python",
   "name": "python3"
  },
  "language_info": {
   "codemirror_mode": {
    "name": "ipython",
    "version": 3
   },
   "file_extension": ".py",
   "mimetype": "text/x-python",
   "name": "python",
   "nbconvert_exporter": "python",
   "pygments_lexer": "ipython3",
   "version": "3.8.5"
  }
 },
 "nbformat": 4,
 "nbformat_minor": 5
}
