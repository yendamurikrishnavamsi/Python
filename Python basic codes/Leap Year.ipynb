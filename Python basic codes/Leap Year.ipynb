{
 "cells": [
  {
   "cell_type": "markdown",
   "id": "00d7a8fc",
   "metadata": {},
   "source": [
    "# Check Leap Year"
   ]
  },
  {
   "cell_type": "code",
   "execution_count": 11,
   "id": "e4cb7104",
   "metadata": {},
   "outputs": [
    {
     "name": "stdout",
     "output_type": "stream",
     "text": [
      "Enter Year : 2020\n",
      "2020 is 'Leap Year'\n"
     ]
    }
   ],
   "source": [
    "n=int(input(\"Enter Year : \"))\n",
    "if n%400==0:\n",
    "    print(n,\"is 'Centurian Leap Year'\")\n",
    "elif n%4==0 and n%100!=0:\n",
    "    print(n,\"is 'Leap Year'\")\n",
    "else:\n",
    "    print(n,\"is 'Not a Leap Year'\")"
   ]
  },
  {
   "attachments": {},
   "cell_type": "markdown",
   "id": "6ff01c0d",
   "metadata": {},
   "source": [
    "#### The leap year is omitted three times every four hundred years. In other words, a century year cannot be a leap year unless it is divisible by 400. Thus 1700, 1800, and 1900 were not leap years, but 1600, 2000, and 2400 are leap years"
   ]
  }
 ],
 "metadata": {
  "kernelspec": {
   "display_name": "Python 3",
   "language": "python",
   "name": "python3"
  },
  "language_info": {
   "codemirror_mode": {
    "name": "ipython",
    "version": 3
   },
   "file_extension": ".py",
   "mimetype": "text/x-python",
   "name": "python",
   "nbconvert_exporter": "python",
   "pygments_lexer": "ipython3",
   "version": "3.8.5"
  }
 },
 "nbformat": 4,
 "nbformat_minor": 5
}
