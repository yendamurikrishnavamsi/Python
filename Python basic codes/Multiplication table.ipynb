{
 "cells": [
  {
   "cell_type": "code",
   "execution_count": 4,
   "id": "9081a0a9",
   "metadata": {},
   "outputs": [
    {
     "name": "stdout",
     "output_type": "stream",
     "text": [
      "Enter table number : 13\n",
      "Enter table range : 20\n",
      "13 x 1 = 13\n",
      "13 x 2 = 26\n",
      "13 x 3 = 39\n",
      "13 x 4 = 52\n",
      "13 x 5 = 65\n",
      "13 x 6 = 78\n",
      "13 x 7 = 91\n",
      "13 x 8 = 104\n",
      "13 x 9 = 117\n",
      "13 x 10 = 130\n",
      "13 x 11 = 143\n",
      "13 x 12 = 156\n",
      "13 x 13 = 169\n",
      "13 x 14 = 182\n",
      "13 x 15 = 195\n",
      "13 x 16 = 208\n",
      "13 x 17 = 221\n",
      "13 x 18 = 234\n",
      "13 x 19 = 247\n",
      "13 x 20 = 260\n"
     ]
    }
   ],
   "source": [
    "n=int(input(\"Enter table number : \"))\n",
    "r=int(input(\"Enter table range : \"))\n",
    "for i in range(1,r+1):\n",
    "    print(n,'x',i,'=',n*i)"
   ]
  }
 ],
 "metadata": {
  "kernelspec": {
   "display_name": "Python 3",
   "language": "python",
   "name": "python3"
  },
  "language_info": {
   "codemirror_mode": {
    "name": "ipython",
    "version": 3
   },
   "file_extension": ".py",
   "mimetype": "text/x-python",
   "name": "python",
   "nbconvert_exporter": "python",
   "pygments_lexer": "ipython3",
   "version": "3.8.5"
  }
 },
 "nbformat": 4,
 "nbformat_minor": 5
}
