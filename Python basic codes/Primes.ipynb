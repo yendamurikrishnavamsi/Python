{
 "cells": [
  {
   "cell_type": "markdown",
   "metadata": {},
   "source": [
    "## Gives whether the given number is Prime or Not"
   ]
  },
  {
   "cell_type": "code",
   "execution_count": 107,
   "metadata": {},
   "outputs": [
    {
     "name": "stdout",
     "output_type": "stream",
     "text": [
      "Enter an integer:4\n",
      "Not a Prime\n"
     ]
    }
   ],
   "source": [
    "n=int(input('Enter an integer : '))\n",
    "if n>1:\n",
    "    for i in range(2,n//2+1):\n",
    "        if n%i==0:\n",
    "            print(\"Not a Prime\")\n",
    "            break\n",
    "    else:\n",
    "        print(\"Prime\")\n",
    "else:\n",
    "    print(\"Not Prime\")"
   ]
  },
  {
   "cell_type": "markdown",
   "metadata": {},
   "source": [
    "## Prints Prime Numbers and Number of Primes upto given number"
   ]
  },
  {
   "cell_type": "code",
   "execution_count": 6,
   "metadata": {
    "scrolled": true
   },
   "outputs": [
    {
     "name": "stdout",
     "output_type": "stream",
     "text": [
      "Enter an integer : 47\n",
      "The Prime numbers upto 47 are : 2 3 5 7 11 13 17 19 23 29 31 37 41 43 47 \n",
      "Number of Primes upto 47 are \"15\"\n"
     ]
    }
   ],
   "source": [
    "n=int(input('Enter an integer : '))\n",
    "if n>1:\n",
    "    a=0\n",
    "    print('The Prime numbers upto',n,'are : ',end=\"\")\n",
    "    for i in range(2,n+1):\n",
    "        for j in range(2,i//2+1):\n",
    "            if i%j==0:\n",
    "                break\n",
    "        else:\n",
    "            print(i,end=\" \")\n",
    "            a+=1\n",
    "else:\n",
    "    print(\"Enter an integer which is greater than 1\")\n",
    "print('\\nNumber of Primes upto',n,'are \"{}\"'.format(a))"
   ]
  },
  {
   "cell_type": "markdown",
   "metadata": {},
   "source": [
    "## Prints nearest Prime numbers of given number"
   ]
  },
  {
   "cell_type": "code",
   "execution_count": 2,
   "metadata": {},
   "outputs": [
    {
     "name": "stdout",
     "output_type": "stream",
     "text": [
      "Enter an integer : 5\n",
      "The nearest primes of 5 : 3 and 7\n"
     ]
    }
   ],
   "source": [
    "n= int(input('Enter an integer : '))\n",
    "a,b,i=0,2,n-1\n",
    "if n>2:\n",
    "    while i<n:\n",
    "        for j in range(2,i//2+1):\n",
    "            if i%j==0:\n",
    "                break\n",
    "        else:\n",
    "            a=i\n",
    "            break\n",
    "        i-=1\n",
    "i=n+1\n",
    "if a>0:\n",
    "    while i>n:\n",
    "        for j in range(2,i//2+1):\n",
    "            if i%j==0:\n",
    "                break\n",
    "        else:\n",
    "            b=i\n",
    "            break\n",
    "        i+=1\n",
    "if a==0:\n",
    "    print(\"The nearest prime of {} : {}\".format(n,b))\n",
    "elif n-a<b-n:\n",
    "    print(\"The nearest prime of {} : {}\".format(n,a))\n",
    "elif n-a>b-n:\n",
    "    print(\"The nearest prime of {} : {}\".format(n,b))\n",
    "else:\n",
    "    print(\"The nearest primes of {} : {} and {}\".format(n,a,b))"
   ]
  }
 ],
 "metadata": {
  "kernelspec": {
   "display_name": "Python 3",
   "language": "python",
   "name": "python3"
  },
  "language_info": {
   "codemirror_mode": {
    "name": "ipython",
    "version": 3
   },
   "file_extension": ".py",
   "mimetype": "text/x-python",
   "name": "python",
   "nbconvert_exporter": "python",
   "pygments_lexer": "ipython3",
   "version": "3.8.5"
  }
 },
 "nbformat": 4,
 "nbformat_minor": 4
}
