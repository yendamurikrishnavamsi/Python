{
 "cells": [
  {
   "cell_type": "markdown",
   "id": "7476bada",
   "metadata": {},
   "source": [
    "# Celsius to Fahrenheit"
   ]
  },
  {
   "cell_type": "code",
   "execution_count": 3,
   "id": "ee1bdfd1",
   "metadata": {},
   "outputs": [
    {
     "name": "stdout",
     "output_type": "stream",
     "text": [
      "Enter Temperature in Celsius : 6\n",
      "6.0 Celsius = 42.8 Fahrenheit\n"
     ]
    }
   ],
   "source": [
    "c=float(input(\"Enter Temperature in Celsius : \"))\n",
    "f=(c*1.8)+32\n",
    "print(c,'Celsius =',f,'Fahrenheit')"
   ]
  },
  {
   "cell_type": "markdown",
   "id": "ea1bdc5e",
   "metadata": {},
   "source": [
    "# Fahrenheit to Celsius"
   ]
  },
  {
   "cell_type": "code",
   "execution_count": 21,
   "id": "27b082d9",
   "metadata": {},
   "outputs": [
    {
     "name": "stdout",
     "output_type": "stream",
     "text": [
      "Enter Temperature in Fahrenheit : 40\n",
      "40.0 Fahrenheit =  4.444444444444445 Celsius\n"
     ]
    }
   ],
   "source": [
    "f=float(input(\"Enter Temperature in Fahrenheit : \"))\n",
    "c=(f-32)/1.8\n",
    "print(f,'Fahrenheit = ',c,'Celsius')"
   ]
  }
 ],
 "metadata": {
  "kernelspec": {
   "display_name": "Python 3",
   "language": "python",
   "name": "python3"
  },
  "language_info": {
   "codemirror_mode": {
    "name": "ipython",
    "version": 3
   },
   "file_extension": ".py",
   "mimetype": "text/x-python",
   "name": "python",
   "nbconvert_exporter": "python",
   "pygments_lexer": "ipython3",
   "version": "3.8.5"
  }
 },
 "nbformat": 4,
 "nbformat_minor": 5
}
