{
 "cells": [
  {
   "cell_type": "markdown",
   "id": "94e53492",
   "metadata": {},
   "source": [
    "# Square root of a number"
   ]
  },
  {
   "cell_type": "code",
   "execution_count": 14,
   "id": "015a4fb8",
   "metadata": {},
   "outputs": [
    {
     "name": "stdout",
     "output_type": "stream",
     "text": [
      "Enter a number : 7\n",
      "The Square root of 7.0 is 2.6458\n"
     ]
    }
   ],
   "source": [
    "n=float(input(\"Enter a number : \"))\n",
    "print(\"The Square root of\",n,\"is %.4f\"%(n**0.5))"
   ]
  },
  {
   "cell_type": "markdown",
   "id": "b0f2f3d7",
   "metadata": {},
   "source": [
    "# Cube root of a number"
   ]
  },
  {
   "cell_type": "code",
   "execution_count": 13,
   "id": "dd2e5fc1",
   "metadata": {},
   "outputs": [
    {
     "name": "stdout",
     "output_type": "stream",
     "text": [
      "Enter a number : 729\n",
      "The Cube root of 729.0 is 9.0000\n"
     ]
    }
   ],
   "source": [
    "n=float(input(\"Enter a number : \"))\n",
    "print(\"The Cube root of\",n,\"is %.4f\"%(n**(1/3)))"
   ]
  }
 ],
 "metadata": {
  "kernelspec": {
   "display_name": "Python 3",
   "language": "python",
   "name": "python3"
  },
  "language_info": {
   "codemirror_mode": {
    "name": "ipython",
    "version": 3
   },
   "file_extension": ".py",
   "mimetype": "text/x-python",
   "name": "python",
   "nbconvert_exporter": "python",
   "pygments_lexer": "ipython3",
   "version": "3.8.5"
  }
 },
 "nbformat": 4,
 "nbformat_minor": 5
}
