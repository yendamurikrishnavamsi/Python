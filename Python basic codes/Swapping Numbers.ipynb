{
 "cells": [
  {
   "cell_type": "markdown",
   "id": "0d432450",
   "metadata": {},
   "source": [
    "# Swapping 2 numbers without using 3rd variable"
   ]
  },
  {
   "cell_type": "code",
   "execution_count": 3,
   "id": "4c30dab1",
   "metadata": {},
   "outputs": [
    {
     "name": "stdout",
     "output_type": "stream",
     "text": [
      "Enter a value : 2\n",
      "Enter b value : 3\n",
      "\n",
      "Before Swapping\n",
      "a = 2.0 and b = 3.0\n",
      "\n",
      "After Swapping\n",
      "a = 3.0 and b = 2.0\n"
     ]
    }
   ],
   "source": [
    "a=float(input(\"Enter a value : \"))\n",
    "b=float(input(\"Enter b value : \"))\n",
    "print(\"\\nBefore Swapping\\na =\",a,\"and b =\",b)\n",
    "a,b=b,a\n",
    "print(\"\\nAfter Swapping\\na =\",a,\"and b =\",b)"
   ]
  },
  {
   "cell_type": "markdown",
   "id": "9b906805",
   "metadata": {},
   "source": [
    "# Or"
   ]
  },
  {
   "cell_type": "code",
   "execution_count": 6,
   "id": "ef655d50",
   "metadata": {},
   "outputs": [
    {
     "name": "stdout",
     "output_type": "stream",
     "text": [
      "Enter a value : 2\n",
      "Enter b value : 3\n",
      "\n",
      "Before Swapping\n",
      "a = 2.0 and b = 3.0\n",
      "\n",
      "After Swapping\n",
      "a = 3.0 and b = 2.0\n"
     ]
    }
   ],
   "source": [
    "a=float(input(\"Enter a value : \"))\n",
    "b=float(input(\"Enter b value : \"))\n",
    "print(\"\\nBefore Swapping\\na =\",a,\"and b =\",b)\n",
    "a=a+b\n",
    "b=a-b\n",
    "a=a-b\n",
    "print(\"\\nAfter Swapping\\na =\",a,\"and b =\",b)"
   ]
  }
 ],
 "metadata": {
  "kernelspec": {
   "display_name": "Python 3",
   "language": "python",
   "name": "python3"
  },
  "language_info": {
   "codemirror_mode": {
    "name": "ipython",
    "version": 3
   },
   "file_extension": ".py",
   "mimetype": "text/x-python",
   "name": "python",
   "nbconvert_exporter": "python",
   "pygments_lexer": "ipython3",
   "version": "3.8.5"
  }
 },
 "nbformat": 4,
 "nbformat_minor": 5
}
