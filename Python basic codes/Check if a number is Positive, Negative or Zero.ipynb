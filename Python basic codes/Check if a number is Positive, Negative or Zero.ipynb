{
 "cells": [
  {
   "cell_type": "markdown",
   "id": "2d400870",
   "metadata": {},
   "source": [
    "# Check if a Number is Positive, Negative or Zero"
   ]
  },
  {
   "cell_type": "code",
   "execution_count": 1,
   "id": "975975a6",
   "metadata": {},
   "outputs": [
    {
     "name": "stdout",
     "output_type": "stream",
     "text": [
      "Enter a number : -4\n",
      "-4.0 is negative number\n"
     ]
    }
   ],
   "source": [
    "n=float(input(\"Enter a number : \"))\n",
    "if n>0:\n",
    "    print(n,\"is positive number\")\n",
    "elif n<0:\n",
    "    print(n,\"is negative number\")\n",
    "else:\n",
    "    print(n,\"is Zero\")"
   ]
  }
 ],
 "metadata": {
  "kernelspec": {
   "display_name": "Python 3",
   "language": "python",
   "name": "python3"
  },
  "language_info": {
   "codemirror_mode": {
    "name": "ipython",
    "version": 3
   },
   "file_extension": ".py",
   "mimetype": "text/x-python",
   "name": "python",
   "nbconvert_exporter": "python",
   "pygments_lexer": "ipython3",
   "version": "3.8.5"
  }
 },
 "nbformat": 4,
 "nbformat_minor": 5
}
