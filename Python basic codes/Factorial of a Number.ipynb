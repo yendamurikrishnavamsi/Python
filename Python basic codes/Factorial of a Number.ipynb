{
 "cells": [
  {
   "cell_type": "markdown",
   "id": "65573396",
   "metadata": {},
   "source": [
    "# Factorial of a number"
   ]
  },
  {
   "cell_type": "code",
   "execution_count": 6,
   "id": "016860e1",
   "metadata": {},
   "outputs": [
    {
     "name": "stdout",
     "output_type": "stream",
     "text": [
      "Enter an integer : 5\n",
      "Factorial of 5 is 120\n"
     ]
    }
   ],
   "source": [
    "n=int(input(\"Enter an integer : \"))\n",
    "f=1\n",
    "if n==0:\n",
    "    print(\"Factorial of\",n,\"is 1\")\n",
    "elif n>0:\n",
    "    for i in range(1,n+1):\n",
    "        f=f*i\n",
    "    print(\"Factorial of\",n,\"is\",f)\n",
    "else:\n",
    "    print(\"Factorial doesn't exist for negative numbers\")"
   ]
  }
 ],
 "metadata": {
  "kernelspec": {
   "display_name": "Python 3",
   "language": "python",
   "name": "python3"
  },
  "language_info": {
   "codemirror_mode": {
    "name": "ipython",
    "version": 3
   },
   "file_extension": ".py",
   "mimetype": "text/x-python",
   "name": "python",
   "nbconvert_exporter": "python",
   "pygments_lexer": "ipython3",
   "version": "3.8.5"
  }
 },
 "nbformat": 4,
 "nbformat_minor": 5
}
