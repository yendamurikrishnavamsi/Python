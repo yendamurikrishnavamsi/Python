{
 "cells": [
  {
   "cell_type": "markdown",
   "id": "5cc2a06b",
   "metadata": {},
   "source": [
    "# Sum of 2 numbers"
   ]
  },
  {
   "cell_type": "code",
   "execution_count": 4,
   "id": "7af3f330",
   "metadata": {},
   "outputs": [
    {
     "name": "stdout",
     "output_type": "stream",
     "text": [
      "5.3\n"
     ]
    }
   ],
   "source": [
    "a,b=2.3,3\n",
    "print(a+b)"
   ]
  },
  {
   "cell_type": "markdown",
   "id": "85ab5f62",
   "metadata": {},
   "source": [
    "# Sum of 2 numbers by input from the user"
   ]
  },
  {
   "cell_type": "code",
   "execution_count": 5,
   "id": "fd661b23",
   "metadata": {},
   "outputs": [
    {
     "name": "stdout",
     "output_type": "stream",
     "text": [
      "Enter a value : 2.3\n",
      "Enter b value : 3\n",
      "5.3\n"
     ]
    }
   ],
   "source": [
    "a=float(input(\"Enter a value : \"))\n",
    "b=float(input(\"Enter b value : \"))\n",
    "print(a+b)"
   ]
  },
  {
   "cell_type": "markdown",
   "id": "7247820c",
   "metadata": {},
   "source": [
    "# Sum of multiple numbers by input from the user"
   ]
  },
  {
   "cell_type": "code",
   "execution_count": 20,
   "id": "7e35a494",
   "metadata": {},
   "outputs": [
    {
     "name": "stdout",
     "output_type": "stream",
     "text": [
      "Enter Numbers to sum : \n",
      "34\n",
      "-13\n",
      "0\n",
      "25.3\n",
      "5\n",
      "4.68\n",
      "\n",
      "Sum of given numbers : 55.98\n"
     ]
    }
   ],
   "source": [
    "n,i=[],0\n",
    "print(\"Enter Numbers to sum : \")\n",
    "while True:\n",
    "    i=input()\n",
    "    if i==\"\":\n",
    "        break\n",
    "    n.append(float(i))\n",
    "print(\"Sum of given numbers :\",sum(n))"
   ]
  }
 ],
 "metadata": {
  "kernelspec": {
   "display_name": "Python 3",
   "language": "python",
   "name": "python3"
  },
  "language_info": {
   "codemirror_mode": {
    "name": "ipython",
    "version": 3
   },
   "file_extension": ".py",
   "mimetype": "text/x-python",
   "name": "python",
   "nbconvert_exporter": "python",
   "pygments_lexer": "ipython3",
   "version": "3.8.5"
  }
 },
 "nbformat": 4,
 "nbformat_minor": 5
}
