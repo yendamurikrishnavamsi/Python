{
 "cells": [
  {
   "cell_type": "markdown",
   "id": "316dba88",
   "metadata": {},
   "source": [
    "# Checking Armstrong number or not"
   ]
  },
  {
   "cell_type": "code",
   "execution_count": 3,
   "id": "e1fe3946",
   "metadata": {},
   "outputs": [
    {
     "name": "stdout",
     "output_type": "stream",
     "text": [
      "Enter a number : 1634\n",
      "1634 is an Armstrong number\n"
     ]
    }
   ],
   "source": [
    "n=int(input(\"Enter a number : \"))\n",
    "t,s,l=n,0,len(str(n))\n",
    "while t>0:\n",
    "    x=t%10\n",
    "    s+=x**l\n",
    "    t//=10\n",
    "if n==s:\n",
    "    print(n,\"is an Armstrong number\")\n",
    "else:\n",
    "    print(n,\"is not an Armstrong number\")"
   ]
  }
 ],
 "metadata": {
  "kernelspec": {
   "display_name": "Python 3",
   "language": "python",
   "name": "python3"
  },
  "language_info": {
   "codemirror_mode": {
    "name": "ipython",
    "version": 3
   },
   "file_extension": ".py",
   "mimetype": "text/x-python",
   "name": "python",
   "nbconvert_exporter": "python",
   "pygments_lexer": "ipython3",
   "version": "3.8.5"
  }
 },
 "nbformat": 4,
 "nbformat_minor": 5
}
