{
 "cells": [
  {
   "cell_type": "markdown",
   "id": "45782144",
   "metadata": {},
   "source": [
    "# Check if a Number is Odd or Even"
   ]
  },
  {
   "cell_type": "code",
   "execution_count": 8,
   "id": "c739a408",
   "metadata": {},
   "outputs": [
    {
     "name": "stdout",
     "output_type": "stream",
     "text": [
      "Enter an Integer : 235\n",
      "235 is Odd number\n"
     ]
    }
   ],
   "source": [
    "n=int(input(\"Enter an Integer : \"))\n",
    "if n>0:\n",
    "    if n%2==0:\n",
    "        print(n,\"is Even number\")\n",
    "    else:\n",
    "        print(n,\"is Odd number\")\n",
    "else:\n",
    "    print(n,\"is neither Odd nor Even number\")"
   ]
  }
 ],
 "metadata": {
  "kernelspec": {
   "display_name": "Python 3",
   "language": "python",
   "name": "python3"
  },
  "language_info": {
   "codemirror_mode": {
    "name": "ipython",
    "version": 3
   },
   "file_extension": ".py",
   "mimetype": "text/x-python",
   "name": "python",
   "nbconvert_exporter": "python",
   "pygments_lexer": "ipython3",
   "version": "3.8.5"
  }
 },
 "nbformat": 4,
 "nbformat_minor": 5
}
