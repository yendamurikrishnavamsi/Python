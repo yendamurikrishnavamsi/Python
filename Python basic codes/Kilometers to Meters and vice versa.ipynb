{
 "cells": [
  {
   "cell_type": "markdown",
   "id": "469ee0b7",
   "metadata": {},
   "source": [
    "# Kilometers to Miles"
   ]
  },
  {
   "cell_type": "code",
   "execution_count": 12,
   "id": "adec0921",
   "metadata": {},
   "outputs": [
    {
     "name": "stdout",
     "output_type": "stream",
     "text": [
      "Enter value in Kilometers : 4\n",
      "4.0 kilometers = 2.485484 Miles\n"
     ]
    }
   ],
   "source": [
    "k=float(input(\"Enter value in Kilometers : \"))\n",
    "m=0.621371*k\n",
    "print(k,\"kilometers =\",m,\"Miles\")"
   ]
  },
  {
   "cell_type": "markdown",
   "id": "a320ad98",
   "metadata": {},
   "source": [
    "# Miles to Kilometers"
   ]
  },
  {
   "cell_type": "code",
   "execution_count": 14,
   "id": "b13807e6",
   "metadata": {},
   "outputs": [
    {
     "name": "stdout",
     "output_type": "stream",
     "text": [
      "Enter value in Miles : 4\n",
      "4.0 Miles = 6.43736 Kilometers\n"
     ]
    }
   ],
   "source": [
    "m=float(input(\"Enter value in Miles : \"))\n",
    "k=1.60934*m\n",
    "print(\"{0} Miles = {1} Kilometers\".format(m,k))"
   ]
  }
 ],
 "metadata": {
  "kernelspec": {
   "display_name": "Python 3",
   "language": "python",
   "name": "python3"
  },
  "language_info": {
   "codemirror_mode": {
    "name": "ipython",
    "version": 3
   },
   "file_extension": ".py",
   "mimetype": "text/x-python",
   "name": "python",
   "nbconvert_exporter": "python",
   "pygments_lexer": "ipython3",
   "version": "3.8.5"
  }
 },
 "nbformat": 4,
 "nbformat_minor": 5
}
