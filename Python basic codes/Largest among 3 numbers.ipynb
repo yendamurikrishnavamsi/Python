{
 "cells": [
  {
   "cell_type": "markdown",
   "id": "4eeb5da1",
   "metadata": {},
   "source": [
    "# Largest among 3 numbers"
   ]
  },
  {
   "cell_type": "code",
   "execution_count": 5,
   "id": "7c759b58",
   "metadata": {},
   "outputs": [
    {
     "name": "stdout",
     "output_type": "stream",
     "text": [
      "Enter a first number : 20\n",
      "Enter a second number : 20.3\n",
      "Enter a third number : -20\n",
      "20.3 is the largest number\n"
     ]
    }
   ],
   "source": [
    "n1=float(input(\"Enter a first number : \"))\n",
    "n2=float(input(\"Enter a second number : \"))\n",
    "n3=float(input(\"Enter a third number : \"))\n",
    "if n1>n2 and n1>n3:\n",
    "    print(n1,\"is the largest number\")\n",
    "elif n2>n3:\n",
    "    print(n2,\"is the largest number\")\n",
    "else:\n",
    "    print(n3,\"is the largest number\")"
   ]
  }
 ],
 "metadata": {
  "kernelspec": {
   "display_name": "Python 3",
   "language": "python",
   "name": "python3"
  },
  "language_info": {
   "codemirror_mode": {
    "name": "ipython",
    "version": 3
   },
   "file_extension": ".py",
   "mimetype": "text/x-python",
   "name": "python",
   "nbconvert_exporter": "python",
   "pygments_lexer": "ipython3",
   "version": "3.8.5"
  }
 },
 "nbformat": 4,
 "nbformat_minor": 5
}
