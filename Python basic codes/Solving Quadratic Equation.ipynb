{
 "cells": [
  {
   "cell_type": "markdown",
   "id": "42aef6f5",
   "metadata": {},
   "source": [
    "# Solving Quadratic Equation"
   ]
  },
  {
   "cell_type": "code",
   "execution_count": 9,
   "id": "74ad1b9e",
   "metadata": {},
   "outputs": [
    {
     "name": "stdout",
     "output_type": "stream",
     "text": [
      "In this Quadratic Equation ax^2+bx+c=0 : \n",
      "Enter a value : 1\n",
      "Enter b value : -5\n",
      "Enter c value : 6\n",
      "The roots are : 3.0 and 2.0\n"
     ]
    }
   ],
   "source": [
    "l,v=['a','b','c'],[]\n",
    "print(\"In this Quadratic Equation ax^2+bx+c=0 : \")\n",
    "for i in l:\n",
    "    i=float(input(\"Enter \"+i+\" value : \"))\n",
    "    v.append(i)\n",
    "d=(v[1]**2-4*v[0]*v[2])**0.5\n",
    "print(\"The roots are : {} and {}\".format(((-v[1]+d)/(2*v[0])),((-v[1]-d)/(2*v[0]))))"
   ]
  }
 ],
 "metadata": {
  "kernelspec": {
   "display_name": "Python 3",
   "language": "python",
   "name": "python3"
  },
  "language_info": {
   "codemirror_mode": {
    "name": "ipython",
    "version": 3
   },
   "file_extension": ".py",
   "mimetype": "text/x-python",
   "name": "python",
   "nbconvert_exporter": "python",
   "pygments_lexer": "ipython3",
   "version": "3.8.5"
  }
 },
 "nbformat": 4,
 "nbformat_minor": 5
}
