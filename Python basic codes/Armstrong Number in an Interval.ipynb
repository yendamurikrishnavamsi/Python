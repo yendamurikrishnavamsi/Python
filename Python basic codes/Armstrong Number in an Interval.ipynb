{
 "cells": [
  {
   "cell_type": "markdown",
   "id": "d3854b78",
   "metadata": {},
   "source": [
    "# Find Armstrong Number in an Interval"
   ]
  },
  {
   "cell_type": "code",
   "execution_count": 8,
   "id": "c14f2724",
   "metadata": {},
   "outputs": [
    {
     "name": "stdout",
     "output_type": "stream",
     "text": [
      "Enter lower interval : 100\n",
      "Enter upper interval : 10000\n",
      "The Armstrong numbers from 100 to 10000 are : 153 370 371 407 1634 8208 9474 "
     ]
    }
   ],
   "source": [
    "l=int(input(\"Enter lower interval : \"))\n",
    "u=int(input(\"Enter upper interval : \"))\n",
    "print(\"The Armstrong numbers from\",l,\"to\",u,\"are : \",end=\"\")\n",
    "for i in range(l,u+1):\n",
    "    t,s,l=i,0,len(str(i))\n",
    "    while t>0:\n",
    "        x=t%10\n",
    "        s+=x**l\n",
    "        t//=10\n",
    "    if i==s:\n",
    "        print(i,end=\" \")"
   ]
  }
 ],
 "metadata": {
  "kernelspec": {
   "display_name": "Python 3",
   "language": "python",
   "name": "python3"
  },
  "language_info": {
   "codemirror_mode": {
    "name": "ipython",
    "version": 3
   },
   "file_extension": ".py",
   "mimetype": "text/x-python",
   "name": "python",
   "nbconvert_exporter": "python",
   "pygments_lexer": "ipython3",
   "version": "3.8.5"
  }
 },
 "nbformat": 4,
 "nbformat_minor": 5
}
