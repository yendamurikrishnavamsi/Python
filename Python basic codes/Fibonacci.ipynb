{
 "cells": [
  {
   "cell_type": "markdown",
   "metadata": {},
   "source": [
    "## Fibonacci series upto given integer and number of terms upto it"
   ]
  },
  {
   "cell_type": "code",
   "execution_count": 33,
   "metadata": {},
   "outputs": [
    {
     "name": "stdout",
     "output_type": "stream",
     "text": [
      "Enter an integer : 55\n",
      "The Fibanocci series upto 55 are : 0 1 1 2 3 5 8 13 21 34 55 \n",
      "There are \"11\" terms in Fibonacci series upto integer 55\n"
     ]
    }
   ],
   "source": [
    "n=int(input(\"Enter an integer : \"))\n",
    "a,b,c=0,1,0\n",
    "if n>=0:\n",
    "    print('The Fibanocci series upto',n,'are : ',end=\"\")\n",
    "    while a<=n:\n",
    "        print(a,end=\" \")\n",
    "        a,b=b,a+b\n",
    "        c+=1\n",
    "else:\n",
    "    print(\"Enter an integer which is greater than or equal to zero(0)\")\n",
    "print('\\nThere are \"{}\" terms in Fibonacci series upto integer'.format(c),n)"
   ]
  },
  {
   "cell_type": "markdown",
   "metadata": {},
   "source": [
    "## First n Fibonacci series"
   ]
  },
  {
   "cell_type": "code",
   "execution_count": 37,
   "metadata": {},
   "outputs": [
    {
     "name": "stdout",
     "output_type": "stream",
     "text": [
      "Enter an integer : 10\n",
      "The first \"10\" Fibanocci series are 0 1 1 2 3 5 8 13 21 34 "
     ]
    }
   ],
   "source": [
    "n=int(input('Enter an integer : '))\n",
    "a,b,c=0,1,0\n",
    "if n>=0:\n",
    "    print('The first \"{}\" Fibanocci series are '.format(n),end=\"\")\n",
    "    while c<n:\n",
    "        print(a,end=\" \")\n",
    "        a,b=b,a+b\n",
    "        c+=1\n",
    "else:\n",
    "    print(\"Enter an integer which is greater than or equal to zero(0)\")"
   ]
  },
  {
   "cell_type": "markdown",
   "metadata": {},
   "source": [
    "## Whether the given integer is in Fibonacci series or not and displays given integer is which term in the Fibonacci series"
   ]
  },
  {
   "cell_type": "code",
   "execution_count": 55,
   "metadata": {},
   "outputs": [
    {
     "name": "stdout",
     "output_type": "stream",
     "text": [
      "Enter an integer : 55\n",
      "'55' is in Fibonacci series and 55 is at position '11'\n"
     ]
    }
   ],
   "source": [
    "n=int(input(\"Enter an integer : \"))\n",
    "a,b,l=0,1,[]\n",
    "if n>=0:\n",
    "    while a<=n:\n",
    "        l.append(a)\n",
    "        a,b=b,a+b\n",
    "if n in l:\n",
    "    if n==1:\n",
    "        print(\"'{}' is in Fibonacci series and {} is '1st' and '2nd' term\".format(n,n))\n",
    "    else:\n",
    "        print(\"'{}' is in Fibonacci series and {} is at position '{}'\".format(n,n,l.index(n)+1))\n",
    "else:\n",
    "    print('\"{}\" is not in Fibonacci series'.format(n))"
   ]
  }
 ],
 "metadata": {
  "kernelspec": {
   "display_name": "Python 3",
   "language": "python",
   "name": "python3"
  },
  "language_info": {
   "codemirror_mode": {
    "name": "ipython",
    "version": 3
   },
   "file_extension": ".py",
   "mimetype": "text/x-python",
   "name": "python",
   "nbconvert_exporter": "python",
   "pygments_lexer": "ipython3",
   "version": "3.8.5"
  }
 },
 "nbformat": 4,
 "nbformat_minor": 4
}
