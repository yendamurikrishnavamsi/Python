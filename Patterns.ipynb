{
 "cells": [
  {
   "cell_type": "code",
   "execution_count": 5,
   "metadata": {},
   "outputs": [
    {
     "name": "stdout",
     "output_type": "stream",
     "text": [
      "Enter number of steps : 5\n",
      "# # # # # \n",
      "# # # # # \n",
      "# # # # # \n",
      "# # # # # \n",
      "# # # # # \n"
     ]
    }
   ],
   "source": [
    "n=int(input('Enter number of steps : '))\n",
    "if n>0:\n",
    "    for i in range(n):\n",
    "        print('# '*n)\n",
    "else:\n",
    "    print(\"Please enter natural number\")"
   ]
  },
  {
   "cell_type": "code",
   "execution_count": 6,
   "metadata": {},
   "outputs": [
    {
     "name": "stdout",
     "output_type": "stream",
     "text": [
      "Enter number of steps : 5\n",
      "# \n",
      "# # \n",
      "# # # \n",
      "# # # # \n",
      "# # # # # \n"
     ]
    }
   ],
   "source": [
    "n=int(input('Enter number of steps : '))\n",
    "if n>0:\n",
    "    for i in range(1,n+1):\n",
    "        print('# '*i)\n",
    "else:\n",
    "    print(\"Please enter natural number\")"
   ]
  },
  {
   "cell_type": "code",
   "execution_count": 12,
   "metadata": {},
   "outputs": [
    {
     "name": "stdout",
     "output_type": "stream",
     "text": [
      "Enter number of steps : 5\n",
      "# # # # # \n",
      "# # # # \n",
      "# # # \n",
      "# # \n",
      "# \n"
     ]
    }
   ],
   "source": [
    "n=int(input('Enter number of steps : '))\n",
    "if n>0:\n",
    "    for i in range(1,n+1):\n",
    "        print('# '*((n+1)-i))\n",
    "else:\n",
    "    print(\"Please Enter natural number\")"
   ]
  },
  {
   "cell_type": "code",
   "execution_count": 8,
   "metadata": {},
   "outputs": [
    {
     "name": "stdout",
     "output_type": "stream",
     "text": [
      "Enter number of steps : 5\n",
      "# \n",
      "# # \n",
      "# # # \n",
      "# # # # \n",
      "# # # # # \n",
      "# # # # \n",
      "# # # \n",
      "# # \n",
      "# \n",
      "\n"
     ]
    }
   ],
   "source": [
    "n=int(input('Enter number of steps : '))\n",
    "if n>0:\n",
    "    for i in range(1,n+1):\n",
    "        print('# '*i)\n",
    "    if i==n:\n",
    "        for i in range(1,n+1):\n",
    "            print('# '*(n-i))\n",
    "else:\n",
    "    print(\"Please enter natural number\")"
   ]
  },
  {
   "cell_type": "code",
   "execution_count": 3,
   "metadata": {},
   "outputs": [
    {
     "name": "stdout",
     "output_type": "stream",
     "text": [
      "Enter number of steps : 5\n",
      "        # \n",
      "      # # \n",
      "    # # # \n",
      "  # # # # \n",
      "# # # # # \n"
     ]
    }
   ],
   "source": [
    "n=int(input('Enter number of steps : '))\n",
    "if n>0:\n",
    "    for i in range(1,n+1):\n",
    "        print(\" \"*((n-i)*2),'# '*i,sep=\"\")\n",
    "else:\n",
    "    print(\"Please enter natural number\")"
   ]
  },
  {
   "cell_type": "code",
   "execution_count": 54,
   "metadata": {
    "scrolled": false
   },
   "outputs": [
    {
     "name": "stdout",
     "output_type": "stream",
     "text": [
      "Enter number of steps : 5\n",
      "# # # # # \n",
      "  # # # # \n",
      "    # # # \n",
      "      # # \n",
      "        # \n"
     ]
    }
   ],
   "source": [
    "n=int(input('Enter number of steps : '))\n",
    "if n>0:\n",
    "    for i in range(1,n+1):\n",
    "        print(' '*((i-1)*2),'# '*((n+1)-i),sep=\"\")\n",
    "else:\n",
    "    print(\"Please enter natural number\")"
   ]
  },
  {
   "cell_type": "code",
   "execution_count": 11,
   "metadata": {},
   "outputs": [
    {
     "name": "stdout",
     "output_type": "stream",
     "text": [
      "Enter number of steps : 5\n",
      "        # \n",
      "      # # \n",
      "    # # # \n",
      "  # # # # \n",
      "# # # # # \n",
      "  # # # # \n",
      "    # # # \n",
      "      # # \n",
      "        # \n",
      "          \n"
     ]
    }
   ],
   "source": [
    "n=int(input('Enter number of steps : '))\n",
    "if n>0:\n",
    "    for i in range(1,n+1):\n",
    "        print(\" \"*((n-i)*2),'# '*i,sep=\"\")\n",
    "    if i==n:\n",
    "        for i in range(1,n+1):\n",
    "            print(' '*(i*2),'# '*(n-i),sep=\"\")\n",
    "else:\n",
    "    print(\"Please enter natural number\")"
   ]
  },
  {
   "cell_type": "code",
   "execution_count": 22,
   "metadata": {},
   "outputs": [
    {
     "name": "stdout",
     "output_type": "stream",
     "text": [
      "Enter number of steps : 5\n",
      "    # \n",
      "   # # \n",
      "  # # # \n",
      " # # # # \n",
      "# # # # # \n"
     ]
    }
   ],
   "source": [
    "n=int(input('Enter number of steps : '))\n",
    "if n>0:\n",
    "    for i in range(1,n+1):\n",
    "        print(\" \"*(n-i),'# '*i,sep=\"\")\n",
    "else:\n",
    "    print(\"Please enter natural number\")"
   ]
  },
  {
   "cell_type": "code",
   "execution_count": 14,
   "metadata": {},
   "outputs": [
    {
     "name": "stdout",
     "output_type": "stream",
     "text": [
      "Enter number of steps : 5\n",
      "# # # # # \n",
      " # # # # \n",
      "  # # # \n",
      "   # # \n",
      "    # \n"
     ]
    }
   ],
   "source": [
    "n=int(input('Enter number of steps : '))\n",
    "if n>0:\n",
    "    for i in range(1,n+1):\n",
    "        print(' '*(i-1),'# '*((n+1)-i),sep=\"\")\n",
    "else:\n",
    "    print(\"Please enter natural number\")"
   ]
  },
  {
   "cell_type": "code",
   "execution_count": 5,
   "metadata": {},
   "outputs": [
    {
     "name": "stdout",
     "output_type": "stream",
     "text": [
      "Enter number of steps : 5\n",
      "    # \n",
      "   # # \n",
      "  # # # \n",
      " # # # # \n",
      "# # # # # \n",
      " # # # # \n",
      "  # # # \n",
      "   # # \n",
      "    # \n",
      "     \n"
     ]
    }
   ],
   "source": [
    "n=int(input('Enter number of steps : '))\n",
    "if n>0:\n",
    "    for i in range(1,n+1):\n",
    "        print(\" \"*(n-i),'# '*i,sep=\"\")\n",
    "    if i==n:\n",
    "        for i in range(1,n+1):\n",
    "            print(' '*i,'# '*(n-i),sep=\"\")\n",
    "else:\n",
    "    print(\"Please enter natural number\")"
   ]
  },
  {
   "cell_type": "code",
   "execution_count": 14,
   "metadata": {},
   "outputs": [
    {
     "name": "stdout",
     "output_type": "stream",
     "text": [
      "Enter number of steps : 5\n",
      "1 1 1 1 1 \n",
      "2 2 2 2 2 \n",
      "3 3 3 3 3 \n",
      "4 4 4 4 4 \n",
      "5 5 5 5 5 \n"
     ]
    }
   ],
   "source": [
    "n=int(input('Enter number of steps : '))\n",
    "if n>0:\n",
    "    for i in range(1,n+1):\n",
    "        for j in range(1,n+1):\n",
    "            print(i,end=\" \")\n",
    "        print()\n",
    "else:\n",
    "    print(\"Please enter natural number\")"
   ]
  },
  {
   "cell_type": "code",
   "execution_count": 15,
   "metadata": {},
   "outputs": [
    {
     "name": "stdout",
     "output_type": "stream",
     "text": [
      "Enter number of steps : 5\n",
      "1 2 3 4 5 \n",
      "1 2 3 4 5 \n",
      "1 2 3 4 5 \n",
      "1 2 3 4 5 \n",
      "1 2 3 4 5 \n"
     ]
    }
   ],
   "source": [
    "n=int(input('Enter number of steps : '))\n",
    "if n>0:\n",
    "    for i in range(1,n+1):\n",
    "        for j in range(1,n+1):\n",
    "            print(j,end=\" \")\n",
    "        print()\n",
    "else:\n",
    "    print(\"Please enter natural number\")"
   ]
  },
  {
   "cell_type": "code",
   "execution_count": 20,
   "metadata": {},
   "outputs": [
    {
     "name": "stdout",
     "output_type": "stream",
     "text": [
      "Enter number of steps : 5\n",
      "1 \n",
      "2 2 \n",
      "3 3 3 \n",
      "4 4 4 4 \n",
      "5 5 5 5 5 \n"
     ]
    }
   ],
   "source": [
    "n=int(input('Enter number of steps : '))\n",
    "if n>0:\n",
    "    for i in range(1,n+1):\n",
    "        for j in range(1,i+1):\n",
    "            print(i,end=\" \")\n",
    "        print()\n",
    "else:\n",
    "    print(\"Please enter natural number\")"
   ]
  },
  {
   "cell_type": "code",
   "execution_count": 21,
   "metadata": {
    "scrolled": true
   },
   "outputs": [
    {
     "name": "stdout",
     "output_type": "stream",
     "text": [
      "Enter number of steps : 5\n",
      "1 \n",
      "1 2 \n",
      "1 2 3 \n",
      "1 2 3 4 \n",
      "1 2 3 4 5 \n"
     ]
    }
   ],
   "source": [
    "n=int(input('Enter number of steps : '))\n",
    "if n>0:\n",
    "    for i in range(1,n+1):\n",
    "        for j in range(1,i+1):\n",
    "            print(j,end=\" \")\n",
    "        print()\n",
    "else:\n",
    "    print(\"Please enter natural number\")"
   ]
  }
 ],
 "metadata": {
  "kernelspec": {
   "display_name": "Python 3",
   "language": "python",
   "name": "python3"
  },
  "language_info": {
   "codemirror_mode": {
    "name": "ipython",
    "version": 3
   },
   "file_extension": ".py",
   "mimetype": "text/x-python",
   "name": "python",
   "nbconvert_exporter": "python",
   "pygments_lexer": "ipython3",
   "version": "3.8.5"
  }
 },
 "nbformat": 4,
 "nbformat_minor": 4
}
